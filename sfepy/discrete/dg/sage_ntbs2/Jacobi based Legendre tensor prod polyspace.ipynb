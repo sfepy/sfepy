{
 "cells": [
  {
   "cell_type": "markdown",
   "metadata": {},
   "source": [
    "# Jacobi based Legendre tensor prod. polyspace"
   ]
  },
  {
   "cell_type": "code",
   "execution_count": 5,
   "metadata": {},
   "outputs": [],
   "source": [
    "import sys\n",
    "sys.path.append(\"/home/tomas/Python_projects/sfepy\")\n",
    "# from dg_basis import iter_by_order"
   ]
  },
  {
   "cell_type": "code",
   "execution_count": null,
   "metadata": {},
   "outputs": [],
   "source": [
    "def iter_by_order(order, dim):\n",
    "    \"\"\"\n",
    "    Iterates over all combinations of basis functions indexes\n",
    "    needed to create multidimensional basis in a way that creates hierarchical basis\n",
    "    :param order: desired order of multidimensional basis\n",
    "    :param dim: dimension of the basis\n",
    "    :yields: tuple containing indexes, use in combine_polyvals and combine_polyvals_der\n",
    "    :return: None\n",
    "    \"\"\"\n",
    "\n",
    "    # nth(iter(map(lambda x: x + (order - reduce(add,x),)), range(order)), dim)\n",
    "    # nth(dim, iterate(map(lambda x: x + (order - reduce(add,x),)), map(tuple, range(order))))\n",
    "    # nth(2, iterate(map(lambda x: x + (order - reduce(add,x),)), map(lambda x: (x,), range(order))))\n",
    "    porder = order + 1\n",
    "    if dim == 1:\n",
    "        for i in range(porder):\n",
    "            yield ((i,))\n",
    "        return\n",
    "    elif dim == 2:\n",
    "        for k in range(porder):\n",
    "            for i in range(k + 1):\n",
    "                # print(k, k - i, i)\n",
    "                # m = int(j + porder * i - i / 2 * (i - 1))\n",
    "                yield ((i, k - i))\n",
    "        return\n",
    "    elif dim == 3:\n",
    "        for i in range(porder):\n",
    "            for j in range(porder - i):\n",
    "                for k in range(porder - i - j):\n",
    "                    m = int(1 + ((11 + 12 * porder + 3 * porder ** 2) * i) / 6 + ((2 * porder + 3) * j) / 2\n",
    "                            + k - (2 + porder) * i ** 2 / 2 - i * j - j ** 2 / 2 + i ** 3 / 6)\n",
    "                    yield ((i, j, k))\n",
    "        return"
   ]
  },
  {
   "cell_type": "code",
   "execution_count": 10,
   "metadata": {},
   "outputs": [],
   "source": [
    "var(\"x\", \"y\")\n",
    "var(\"r\", \"s\")\n",
    "order = 2\n",
    "D = 2"
   ]
  },
  {
   "cell_type": "code",
   "execution_count": 12,
   "metadata": {
    "scrolled": true
   },
   "outputs": [
    {
     "name": "stdout",
     "output_type": "stream",
     "text": [
      "P_0 = 1\n",
      "P_1 = y\n",
      "P_2 = x\n",
      "P_3 = 3/2*y^2 - 1/2\n",
      "P_4 = x*y\n",
      "P_5 = 3/2*x^2 - 1/2\n"
     ]
    }
   ],
   "source": [
    "tensorP = []\n",
    "for m, idx in enumerate(iter_by_order(order, 2)):\n",
    "    print(\"P_{} = {}\".format(m, expand(jacobi_P(idx[0], 0, 0, x)*\n",
    "                                jacobi_P(idx[1], 0,0, y))))\n",
    "    tensorP.append(jacobi_P(idx[0], 0, 0, x)*jacobi_P(idx[1], 0,0,y))"
   ]
  },
  {
   "cell_type": "code",
   "execution_count": 13,
   "metadata": {},
   "outputs": [
    {
     "name": "stdout",
     "output_type": "stream",
     "text": [
      "P_0 = 1\n",
      "P_1 = 2*y - 1\n",
      "P_2 = 2*x - 1\n",
      "P_3 = 6*y^2 - 6*y + 1\n",
      "P_4 = 4*x*y - 2*x - 2*y + 1\n",
      "P_5 = 6*x^2 - 6*x + 1\n"
     ]
    }
   ],
   "source": [
    "tensorP = []\n",
    "for m, idx in enumerate(iter_by_order(order, D)):\n",
    "    jpol = (jacobi_P(idx[0], 0, 0, r)*\n",
    "            jacobi_P(idx[1], 0,0, s)).subs(r == 2*x - 1, s == 2*y - 1)\n",
    "    print(\"P_{} = {}\".format(m, expand(jpol)))\n",
    "    tensorP.append(jpol)"
   ]
  },
  {
   "cell_type": "code",
   "execution_count": null,
   "metadata": {},
   "outputs": [],
   "source": [
    "square_dots = [lambda f, g: integrate(f*g, (x, 0, 1)),\n",
    "                lambda f, g: integrate(integrate(f*g, (y, 0, 1)),(x, 0, 1)),\n",
    "                lambda f, g: integrate(integrate(integrate(f*g, (z, 0, 1)),(y, 0, 1)),(x, 0, 1))\n",
    "               ]# Fubini, yayy!"
   ]
  }
 ],
 "metadata": {
  "kernelspec": {
   "display_name": "SageMath 8.5",
   "language": "",
   "name": "sagemath"
  },
  "language_info": {
   "codemirror_mode": {
    "name": "ipython",
    "version": 2
   },
   "file_extension": ".py",
   "mimetype": "text/x-python",
   "name": "python",
   "nbconvert_exporter": "python",
   "pygments_lexer": "ipython2",
   "version": "2.7.15"
  }
 },
 "nbformat": 4,
 "nbformat_minor": 2
}
