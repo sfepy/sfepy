{
 "cells": [
  {
   "cell_type": "markdown",
   "metadata": {},
   "source": [
    "# Ortogonalize canonical basis on simplex"
   ]
  },
  {
   "cell_type": "code",
   "execution_count": 27,
   "metadata": {},
   "outputs": [],
   "source": [
    "import sys\n",
    "sys.path.append(\"/home/tomas/Python_projects/sfepy\")"
   ]
  },
  {
   "cell_type": "code",
   "execution_count": 28,
   "metadata": {},
   "outputs": [],
   "source": [
    "from dg_basis import iter_by_order"
   ]
  },
  {
   "cell_type": "code",
   "execution_count": 29,
   "metadata": {},
   "outputs": [],
   "source": [
    "from toolz import reduce as redc\n",
    "from operator import mul"
   ]
  },
  {
   "cell_type": "code",
   "execution_count": 30,
   "metadata": {},
   "outputs": [],
   "source": [
    "def gramm_schmidt(base, dot_prod):\n",
    "    '''\n",
    "    Ortogonalizuje bázi base vůči skálárnímu součinu dot_prod\n",
    "    :param base:\n",
    "    :param dot_prod:\n",
    "    :return:\n",
    "    '''\n",
    "    new_base = []\n",
    "    for i in range(len(base)):\n",
    "        new_base.append(ortogonalize(base[i], new_base, dot_prod))\n",
    "    return new_base\n",
    "\n",
    "\n",
    "def ortogonalize(vec, base, dot_prod):\n",
    "    for j in range(len(base)):\n",
    "        kap = - dot_prod(vec, base[j]) / dot_prod(base[j], base[j])\n",
    "        vec = vec + kap * base[j]\n",
    "    return vec"
   ]
  },
  {
   "cell_type": "code",
   "execution_count": 31,
   "metadata": {},
   "outputs": [],
   "source": [
    "var(\"x\", \"y\", \"z\")\n",
    "variables = [x, y, z]\n",
    "\n",
    "order = 2\n",
    "D = 2"
   ]
  },
  {
   "cell_type": "code",
   "execution_count": 32,
   "metadata": {},
   "outputs": [
    {
     "name": "stdout",
     "output_type": "stream",
     "text": [
      "P_0 = 1\n",
      "P_1 = x\n",
      "P_2 = x^2\n",
      "P_3 = y\n",
      "P_4 = x*y\n",
      "P_5 = y^2\n"
     ]
    }
   ],
   "source": [
    "simplexP = []\n",
    "for m, idx in enumerate(iter_by_order(order, D)):\n",
    "    tmpf = redc(mul, [variables[d]**i for d, i in enumerate(idx)])\n",
    "    simplexP.append(tmpf)\n",
    "    print(\"P_{} = {}\".format(m, tmpf))"
   ]
  },
  {
   "cell_type": "code",
   "execution_count": 33,
   "metadata": {},
   "outputs": [],
   "source": [
    "simplex_dots = [lambda f, g: integrate(f*g, (x, 0, 1)),\n",
    "                lambda f, g: integrate(\n",
    "                    integrate(f*g, (y, 0, 1 - x)),(x, 0, 1)),\n",
    "                lambda f, g: integrate(\n",
    "                    integrate(\n",
    "                        integrate(f*g, (z, 0, y)),(y, 0, 1 - x)),(x, 0, 1))\n",
    "               ]"
   ]
  },
  {
   "cell_type": "code",
   "execution_count": 47,
   "metadata": {},
   "outputs": [
    {
     "data": {
      "text/plain": [
       "[1,\n",
       " x - 1/3,\n",
       " x^2 - 4/5*x + 1/10,\n",
       " 1/2*x + y - 1/2,\n",
       " 1/2*x^2 + x*y - 3/5*x - 1/5*y + 1/10,\n",
       " 1/6*x^2 + x*y + y^2 - 1/3*x - y + 1/6]"
      ]
     },
     "execution_count": 47,
     "metadata": {},
     "output_type": "execute_result"
    }
   ],
   "source": [
    "simplexP_ort = gramm_schmidt(simplexP, simplex_dots[D - 1])\n",
    "simplexP_ort"
   ]
  },
  {
   "cell_type": "code",
   "execution_count": 48,
   "metadata": {},
   "outputs": [
    {
     "data": {
      "text/plain": [
       "Matrix([\n",
       "[1/2,    0,     0,    0,      0,      0],\n",
       "[  0, 1/36,     0,    0,      0,      0],\n",
       "[  0,    0, 1/600,    0,      0,      0],\n",
       "[  0,    0,     0, 1/48,      0,      0],\n",
       "[  0,    0,     0,    0, 1/1800,      0],\n",
       "[  0,    0,     0,    0,      0, 1/1080]])"
      ]
     },
     "execution_count": 48,
     "metadata": {},
     "output_type": "execute_result"
    }
   ],
   "source": [
    "Np = len(simplexP_ort)\n",
    "from sympy.matrices import ones\n",
    "vendM = ones(Np, Np)\n",
    "for i in range(Np):\n",
    "    for j in range(Np):\n",
    "        vendM[i, j] = simplex_dots[D - 1](simplexP_ort[i],\n",
    "                                        simplexP_ort[j])# Fubini, yayy!\n",
    "vendM"
   ]
  },
  {
   "cell_type": "code",
   "execution_count": null,
   "metadata": {},
   "outputs": [],
   "source": []
  }
 ],
 "metadata": {
  "kernelspec": {
   "display_name": "SageMath 8.5",
   "language": "",
   "name": "sagemath"
  },
  "language_info": {
   "codemirror_mode": {
    "name": "ipython",
    "version": 2
   },
   "file_extension": ".py",
   "mimetype": "text/x-python",
   "name": "python",
   "nbconvert_exporter": "python",
   "pygments_lexer": "ipython2",
   "version": "2.7.15"
  }
 },
 "nbformat": 4,
 "nbformat_minor": 2
}
