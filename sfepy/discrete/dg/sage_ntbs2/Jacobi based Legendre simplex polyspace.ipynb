{
 "cells": [
  {
   "cell_type": "markdown",
   "metadata": {},
   "source": [
    "# Jacobi based Legendre simplex polyspace"
   ]
  },
  {
   "cell_type": "code",
   "execution_count": 9,
   "metadata": {},
   "outputs": [],
   "source": [
    "import sys\n",
    "sys.path.append(\"/home/tomas/Python_projects/sfepy\")"
   ]
  },
  {
   "cell_type": "code",
   "execution_count": 2,
   "metadata": {},
   "outputs": [],
   "source": [
    "def iter_by_order(order, dim):\n",
    "    \"\"\"\n",
    "    Iterates over all combinations of basis functions indexes\n",
    "    needed to create multidimensional basis in a way that creates hierarchical basis\n",
    "    :param order: desired order of multidimensional basis\n",
    "    :param dim: dimension of the basis\n",
    "    :yields: tuple containing indexes, use in combine_polyvals and combine_polyvals_der\n",
    "    :return: None\n",
    "    \"\"\"\n",
    "\n",
    "    # nth(iter(map(lambda x: x + (order - reduce(add,x),)), range(order)), dim)\n",
    "    # nth(dim, iterate(map(lambda x: x + (order - reduce(add,x),)), map(tuple, range(order))))\n",
    "    # nth(2, iterate(map(lambda x: x + (order - reduce(add,x),)), map(lambda x: (x,), range(order))))\n",
    "    porder = order + 1\n",
    "    if dim == 1:\n",
    "        for i in range(porder):\n",
    "            yield (i,)\n",
    "        return\n",
    "    elif dim == 2:\n",
    "        for k in range(porder):\n",
    "            for i in range(k + 1):\n",
    "                yield (i, k - i)\n",
    "        return\n",
    "    elif dim == 3:\n",
    "        for k in range(porder):\n",
    "            for j in range(k + 1):\n",
    "                for i in range(j + 1):\n",
    "                    yield (i, j - i, k - j)\n",
    "        return"
   ]
  },
  {
   "cell_type": "code",
   "execution_count": 3,
   "metadata": {},
   "outputs": [],
   "source": [
    "var(\"a\", \"b\")\n",
    "var(\"r\", \"s\")\n",
    "var(\"x\", \"y\")\n",
    "order = 2\n",
    "D = 2"
   ]
  },
  {
   "cell_type": "code",
   "execution_count": 4,
   "metadata": {},
   "outputs": [
    {
     "name": "stdout",
     "output_type": "stream",
     "text": [
      "P_0 = 1\n",
      "P_0 = 1\n",
      "P_0 = 1\n",
      "dP_0/dx = 0\n",
      "dP_0/dy = 0\n",
      "\n",
      "P_1 = 3/2*b + 1/2\n",
      "P_1 = 3/2*s + 1/2\n",
      "P_1 = 3*y - 1\n",
      "dP_1/dx = 0\n",
      "dP_1/dy = 3\n",
      "\n",
      "P_2 = -a*(b - 1)\n",
      "P_2 = 2*r + s + 1\n",
      "P_2 = 4*x + 2*y - 2\n",
      "dP_2/dx = 4\n",
      "dP_2/dy = 2\n",
      "\n",
      "P_3 = 5/2*b^2 + b - 1/2\n",
      "P_3 = 5/2*s^2 + s - 1/2\n",
      "P_3 = 10*y^2 - 8*y + 1\n",
      "dP_3/dx = 0\n",
      "dP_3/dy = 20*y - 8\n",
      "\n",
      "P_4 = -1/2*a*(5*b + 3)*(b - 1)\n",
      "P_4 = (5*r + 4)*s + 5/2*s^2 + 3*r + 3/2\n",
      "P_4 = 20*x*y + 10*y^2 - 4*x - 12*y + 2\n",
      "dP_4/dx = 20*y - 4\n",
      "dP_4/dy = 20*x + 20*y - 12\n",
      "\n",
      "P_5 = 1/2*(3*a^2 - 1)*(b - 1)^2\n",
      "P_5 = 6*r^2 + 2*(3*r + 2)*s + s^2 + 6*r + 1\n",
      "P_5 = 24*x^2 + 24*x*y + 4*y^2 - 24*x - 8*y + 4\n",
      "dP_5/dx = 48*x + 24*y - 24\n",
      "dP_5/dy = 24*x + 8*y - 8\n",
      "\n"
     ]
    }
   ],
   "source": [
    "simplexP = []\n",
    "simplexPdx = []\n",
    "simplexPdy = []\n",
    "for m, idx in enumerate(iter_by_order(order, D)):\n",
    "    pa = jacobi_P(idx[0], 0, 0, a)\n",
    "    pb = jacobi_P(idx[1], 2*idx[0] + 1, 0,b)*(1 - b)**idx[0]\n",
    "    print(\"P_{}(a, b) = {}\".format(m, pa*pb))\n",
    "    polrs = (pa*pb).subs(\n",
    "                    b == s, \n",
    "                    a == 2 * (1 + r) / (1 - s) - 1).simplify_rational()\n",
    "    print(\"P_{}(r, s) = {}\".format(m, polrs))\n",
    "    polxy = expand(polrs.subs(r == 2*x - 1, s == 2*y - 1))\n",
    "    simplexP.append(polxy)\n",
    "    simplexPdx = diff(simplexP[m],x)\n",
    "    simplexPdy = diff(simplexP[m],y)\n",
    "    print(\"P_{}(x, y) = {}\".format(m, simplexP[m]))\n",
    "    print(\"dP_{}/dx = {}\".format(m, simplexPdx))\n",
    "    print(\"dP_{}/dy = {}\".format(m, simplexPdy))\n",
    "    print"
   ]
  },
  {
   "cell_type": "code",
   "execution_count": 7,
   "metadata": {},
   "outputs": [],
   "source": [
    "simplex_dots = [lambda f, g: integrate(f*g, (x, 0, 1)),\n",
    "                lambda f, g: integrate(integrate(f*g, (y, 0, 1 - x)),(x, 0, 1)),\n",
    "                lambda f, g: integrate(integrate(integrate(f*g, (z, 0, y)),(y, 0, 1 - x)),(x, 0, 1))\n",
    "               ]# Fubini, yayy!"
   ]
  },
  {
   "cell_type": "code",
   "execution_count": 8,
   "metadata": {},
   "outputs": [
    {
     "data": {
      "text/plain": [
       "Matrix([\n",
       "[1/2,   0,   0,   0,   0,    0],\n",
       "[  0, 1/4,   0,   0,   0,    0],\n",
       "[  0,   0, 1/3,   0,   0,    0],\n",
       "[  0,   0,   0, 1/6,   0,    0],\n",
       "[  0,   0,   0,   0, 2/9,    0],\n",
       "[  0,   0,   0,   0,   0, 8/15]])"
      ]
     },
     "execution_count": 8,
     "metadata": {},
     "output_type": "execute_result"
    }
   ],
   "source": [
    "Np = len(simplexP)\n",
    "from sympy.matrices import ones\n",
    "vendM = ones(Np, Np)\n",
    "for i in range(Np):\n",
    "    for j in range(Np):\n",
    "        vendM[i, j] = simplex_dots[D - 1](simplexP[i],\n",
    "                                         simplexP[j])\n",
    "vendM"
   ]
  },
  {
   "cell_type": "code",
   "execution_count": null,
   "metadata": {},
   "outputs": [],
   "source": []
  }
 ],
 "metadata": {
  "kernelspec": {
   "display_name": "SageMath 8.5",
   "language": "",
   "name": "sagemath"
  },
  "language_info": {
   "codemirror_mode": {
    "name": "ipython",
    "version": 2
   },
   "file_extension": ".py",
   "mimetype": "text/x-python",
   "name": "python",
   "nbconvert_exporter": "python",
   "pygments_lexer": "ipython2",
   "version": "2.7.15"
  }
 },
 "nbformat": 4,
 "nbformat_minor": 2
}
