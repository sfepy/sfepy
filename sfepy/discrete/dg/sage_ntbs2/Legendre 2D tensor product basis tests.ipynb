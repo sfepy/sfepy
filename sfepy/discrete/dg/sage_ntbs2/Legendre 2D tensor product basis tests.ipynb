{
 "cells": [
  {
   "cell_type": "markdown",
   "metadata": {},
   "source": [
    "# Legendre 2D tensor product basis tests"
   ]
  },
  {
   "cell_type": "code",
   "execution_count": 1,
   "metadata": {},
   "outputs": [],
   "source": [
    "import numpy as nm\n",
    "import sys\n",
    "sys.path.append(\"/home/tomas/Python_projects/sfepy\")"
   ]
  },
  {
   "cell_type": "code",
   "execution_count": 2,
   "metadata": {},
   "outputs": [
    {
     "name": "stderr",
     "output_type": "stream",
     "text": [
      "/home/tomas/Python_projects/sfepy/sfepy/linalg/utils.py:10: DeprecationWarning: numpy.core.umath_tests is an internal NumPy module and should not be imported. It will be removed in a future NumPy release.\n",
      "  from numpy.core.umath_tests import matrix_multiply\n"
     ]
    }
   ],
   "source": [
    "from sfepy.base.base import Struct\n",
    "from dg_basis import iter_by_order, LegendrePolySpace, LegendreSimplexPolySpace, LegendreTensorProductPolySpace"
   ]
  },
  {
   "cell_type": "code",
   "execution_count": null,
   "metadata": {},
   "outputs": [],
   "source": [
    "def iter_by_order(order, dim):\n",
    "    \"\"\"\n",
    "    Iterates over all combinations of basis functions indexes\n",
    "    needed to create multidimensional basis in a way that creates hierarchical basis\n",
    "    :param order: desired order of multidimensional basis\n",
    "    :param dim: dimension of the basis\n",
    "    :yields: tuple containing indexes, use in combine_polyvals and combine_polyvals_der\n",
    "    :return: None\n",
    "    \"\"\"\n",
    "\n",
    "    # nth(iter(map(lambda x: x + (order - reduce(add,x),)), range(order)), dim)\n",
    "    # nth(dim, iterate(map(lambda x: x + (order - reduce(add,x),)), map(tuple, range(order))))\n",
    "    # nth(2, iterate(map(lambda x: x + (order - reduce(add,x),)), map(lambda x: (x,), range(order))))\n",
    "    porder = order + 1\n",
    "    if dim == 1:\n",
    "        for i in range(porder):\n",
    "            yield (i,)\n",
    "        return\n",
    "    elif dim == 2:\n",
    "        for k in range(porder):\n",
    "            for i in range(k + 1):\n",
    "                yield (i, k - i)\n",
    "        return\n",
    "    elif dim == 3:\n",
    "        for k in range(porder):\n",
    "            for j in range(k + 1):\n",
    "                for i in range(j + 1):\n",
    "                    yield (i, j - i, k - j)\n",
    "        return"
   ]
  },
  {
   "cell_type": "code",
   "execution_count": 3,
   "metadata": {},
   "outputs": [],
   "source": [
    "order = 5"
   ]
  },
  {
   "cell_type": "code",
   "execution_count": 9,
   "metadata": {},
   "outputs": [],
   "source": [
    "# define 1D basis polynoms, so far only few of them\n",
    "var(\"x\")\n",
    "P = [1,\n",
    "     2 * x - 1,\n",
    "     6 * x ** 2 - 6 * x + 1,\n",
    "     20 * x ** 3 - 30 * x ** 2 + 12 * x - 1,\n",
    "     70 * x ** 4 - 140 * x ** 3 + 90 * x ** 2 - 20 * x + 1,\n",
    "     252 * x ** 5 - 630 * x ** 4 + 560 * x ** 3 - 210 * x ** 2 + 30 * x - 1]"
   ]
  },
  {
   "cell_type": "code",
   "execution_count": 5,
   "metadata": {},
   "outputs": [],
   "source": [
    "geometry = Struct(n_vertex=2,\n",
    "                  dim=1,\n",
    "                  coors=nm.array([0, 1]))\n",
    "order = 4\n",
    "ts = LegendreTensorProductPolySpace('legb', geometry, order)\n",
    "ls = LegendrePolySpace('legb', geometry, order)"
   ]
  },
  {
   "cell_type": "code",
   "execution_count": 11,
   "metadata": {},
   "outputs": [
    {
     "data": {
      "text/plain": [
       "70*x^4 - 140*x^3 + 90*x^2 - 20*x + 1"
      ]
     },
     "execution_count": 11,
     "metadata": {},
     "output_type": "execute_result"
    }
   ],
   "source": [
    "ls.get_nth_fun(4)(x)"
   ]
  },
  {
   "cell_type": "code",
   "execution_count": 10,
   "metadata": {},
   "outputs": [
    {
     "name": "stdout",
     "output_type": "stream",
     "text": [
      "P_0 = 1\n",
      "P_1 = 2*x - 1\n",
      "P_2 = 6*x^2 - 6*x + 1\n",
      "P_3 = 20*x^3 - 30*x^2 + 12*x - 1\n",
      "P_4 = 70*x^4 - 140*x^3 + 90*x^2 - 20*x + 1\n",
      "P_5 = 2*y - 1\n",
      "P_6 = (2*x - 1)*(2*y - 1)\n",
      "P_7 = (6*x^2 - 6*x + 1)*(2*y - 1)\n",
      "P_8 = (20*x^3 - 30*x^2 + 12*x - 1)*(2*y - 1)\n",
      "P_9 = 6*y^2 - 6*y + 1\n",
      "P_10 = (6*y^2 - 6*y + 1)*(2*x - 1)\n",
      "P_11 = (6*x^2 - 6*x + 1)*(6*y^2 - 6*y + 1)\n",
      "P_12 = 20*y^3 - 30*y^2 + 12*y - 1\n",
      "P_13 = (20*y^3 - 30*y^2 + 12*y - 1)*(2*x - 1)\n",
      "P_14 = 70*y^4 - 140*y^3 + 90*y^2 - 20*y + 1\n"
     ]
    }
   ],
   "source": [
    "var(\"y\")\n",
    "tensorP = []\n",
    "for m, idx in enumerate(iter_by_order(order, 2)):\n",
    "    #print(\"P_{} = ({})*({})\".format(m, P[idx[0]], P[idx[1]].subs(x, y)))\n",
    "    print(\"P_{} = {}\".format(m, P[idx[0]]*P[idx[1]].subs(x=y)))\n",
    "    tensorP.append(P[idx[0]]*P[idx[1]].subs(x=y))"
   ]
  },
  {
   "cell_type": "code",
   "execution_count": null,
   "metadata": {},
   "outputs": [],
   "source": [
    "Np = len(tensorP)\n",
    "from sympy.matrices import ones\n",
    "vendM = ones(Np, Np)\n",
    "for i in range(Np):\n",
    "    for j in range(Np):\n",
    "        vendM[i, j] = integrate(integrate(tensorP[i]*tensorP[j], (x, 0, 1)), (y, 0, 1))  # Fubini, yayy!\n",
    "vendM"
   ]
  },
  {
   "cell_type": "markdown",
   "metadata": {},
   "source": [
    "The basis is orthogonal!"
   ]
  },
  {
   "cell_type": "code",
   "execution_count": null,
   "metadata": {},
   "outputs": [],
   "source": [
    "vendM.condition_number()"
   ]
  },
  {
   "cell_type": "markdown",
   "metadata": {},
   "source": [
    "Condition number seems to grow with square of order, but does it matter, when the matrix is diagonal?"
   ]
  }
 ],
 "metadata": {
  "kernelspec": {
   "display_name": "SageMath 8.5",
   "language": "",
   "name": "sagemath"
  },
  "language_info": {
   "codemirror_mode": {
    "name": "ipython",
    "version": 2
   },
   "file_extension": ".py",
   "mimetype": "text/x-python",
   "name": "python",
   "nbconvert_exporter": "python",
   "pygments_lexer": "ipython2",
   "version": "2.7.15"
  }
 },
 "nbformat": 4,
 "nbformat_minor": 2
}
